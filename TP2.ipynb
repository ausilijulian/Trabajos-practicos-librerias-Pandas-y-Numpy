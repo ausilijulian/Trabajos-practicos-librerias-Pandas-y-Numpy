{
  "cells": [
    {
      "cell_type": "markdown",
      "source": [
        "#TP 2 NumPy"
      ],
      "metadata": {
        "id": "526tQeOlDj4W"
      }
    },
    {
      "cell_type": "markdown",
      "source": [
        "##Ejercicio 1"
      ],
      "metadata": {
        "id": "IxFfpnJcDqIk"
      }
    },
    {
      "cell_type": "code",
      "source": [
        "import numpy as np\n",
        "a,b,c,d=input('ingrese valores para abcd, separados por coma: ').split(',')\n",
        "u=np.array([a,b]).astype('int')\n",
        "v=np.array([c,d]).astype('int')\n",
        "\n",
        "matriz=np.array([])\n",
        "matriz=(np.append(matriz,v-u))\n",
        "matriz=(np.append(matriz,-v-u))\n",
        "matriz=(np.append(matriz,2*u-v))\n",
        "matriz=(np.append(matriz,1/2*u-2*v))\n",
        "matriz=matriz.reshape(4,2)\n",
        "print(u,v)\n",
        "print(matriz)"
      ],
      "metadata": {
        "id": "MjoS_8IqDuei"
      },
      "execution_count": null,
      "outputs": []
    },
    {
      "cell_type": "markdown",
      "source": [
        "##Ejercicio 2,3,4,5\n"
      ],
      "metadata": {
        "id": "X5_AADDtD0Hd"
      }
    },
    {
      "cell_type": "code",
      "source": [
        "#ejercicio3, lo hice con una funcion\n",
        "def disponible(busqueda,producto,precio,cantidad):\n",
        "    if (busqueda in producto):\n",
        "        pos=np.where(busqueda == producto)\n",
        "        return f'Quedan {cantidad[pos][0]} {busqueda} y su precio es de ${precio[pos][0]}'\n",
        "    else:\n",
        "        return False\n",
        "\n",
        "#ejercicio4\n",
        "#comprar solo se puede de a un elemento\n",
        "def comprar(busqueda,producto,precio,cantidad):\n",
        "    if (busqueda in producto):\n",
        "        pos=np.where(busqueda == producto)\n",
        "        cantidad[pos] -= 1\n",
        "        return True\n",
        "    else:\n",
        "        return False\n",
        "\n",
        "#ejercicio5\n",
        "def agregar(nombre, valor, numero, producto, precio, cantidad):\n",
        "    if (nombre in producto):\n",
        "        return False\n",
        "    else:\n",
        "        producto = np.append(producto, nombre)\n",
        "        precio = np.append(precio, valor)\n",
        "        cantidad = np.append(cantidad, numero)\n",
        "        return producto, precio, cantidad\n",
        "# reponer tiene el argumento {numero} para reponer de varios a la vez\n",
        "def reponer(nombre, numero, producto, precio, cantidad):\n",
        "    if (nombre in producto):\n",
        "        pos = np.where(nombre == producto)\n",
        "        cantidad[pos] += numero\n",
        "        return True\n",
        "    else:\n",
        "        return False\n",
        "\n",
        "#ejercicio2\n",
        "import numpy as np\n",
        "archivotxt = open('stock.txt')\n",
        "archivo = np.array(archivotxt.read().split('\\n'))\n",
        "archivotxt.close()\n",
        "archivo=archivo.reshape(int(len(archivo)/3),3)\n",
        "producto,precio,cantidad = np.split(archivo,3,1)\n",
        "precio =np.transpose(precio.astype('float'))\n",
        "cantidad =np.transpose(cantidad.astype('int'))\n",
        "producto=np.transpose(producto)\n",
        "\n",
        "#el programa funciona eligiendo una opcion del 1 al 5,\n",
        "#para reponer o para agregar productos puse la limitante de un maximo de 5 unidades.\n",
        "#porque sino me iba a quedar un codigo muy largo si ponia a restringir los input,\n",
        "#preferi dar una limitante a que el codigo se rompa al querer convertir a entero la cantidad, y que el usuario haya ingresado una palabra.\n",
        "#en el apartado de agregar el precio tampoco lo restringi, por lo que se si se ingresa una palabra lo toma valido\n",
        "#faltaria una funcion que al elegir salir, guarde todos los cambios de nuevo en el txt.\n",
        "\n",
        "list=['1','2','3','4','5']\n",
        "while True:\n",
        "    print('seleccione: 1 disponibilidad, 2 compras, 3 reponer, 4 agregar, 5 salir.')\n",
        "    search=input('')\n",
        "\n",
        "    if search not in list:\n",
        "        print('parametro no valido')\n",
        "        continue\n",
        "    if search=='5':\n",
        "        break\n",
        "    if search=='1':\n",
        "        search=input('ingrese su busqueda: ')\n",
        "        disp=disponible(search, producto, precio, cantidad)\n",
        "        if not disp:\n",
        "            print(\"no se encontro\")\n",
        "        else:\n",
        "            print(disp)\n",
        "        continue\n",
        "    if search=='2':\n",
        "        search = input('ingrese su compra: ')\n",
        "        buy=comprar(search, producto, precio, cantidad)\n",
        "        if not buy:\n",
        "            print('no se encuentra este producto, deberia agregarlo')\n",
        "        else:\n",
        "            print('su articulo ha disminuido en una unidad')\n",
        "    if search=='3':\n",
        "        search = input('ingrese su articulo para reponer: ')\n",
        "        num = input('ingrese la cantidad, con un maximo de 5 unidades')\n",
        "        if num not in list:\n",
        "            print('parametro no valido')\n",
        "            continue\n",
        "        num=int(num)\n",
        "        repo=reponer(search, num, producto, precio, cantidad)\n",
        "        if not repo:\n",
        "            print('su articulo no se encuentra')\n",
        "        else:\n",
        "            print('se ha repuesto')\n",
        "    if search == '4':\n",
        "        name = input('ingrese su articulo para agregar: ')\n",
        "        num = input('ingrese la cantidad, con un maximo de 5 unidades: ')\n",
        "        if num not in list:\n",
        "            print('parametro no valido en la cantidad')\n",
        "            continue\n",
        "        price = input('ingrese el precio: ')\n",
        "        add=agregar(name, price, num, producto, precio, cantidad)\n",
        "        if not add:\n",
        "            print('su articulo ya existe')\n",
        "        else:\n",
        "            producto,precio,cantidad=add"
      ],
      "metadata": {
        "id": "U2GFTRHVD8pe"
      },
      "execution_count": null,
      "outputs": []
    },
    {
      "cell_type": "markdown",
      "source": [
        "##Ejercicio 6"
      ],
      "metadata": {
        "id": "0XH_Ucf4Ervj"
      }
    },
    {
      "cell_type": "code",
      "source": [
        "def newticket():\n",
        "    return np.random.randint(1,5,size=4 )\n",
        "\n",
        "import numpy as np\n",
        "\n",
        "#ejercicioA\n",
        "winticket=newticket()\n",
        "print(f'the winner is: {winticket}')\n",
        "\n",
        "#ejercicioB\n",
        "loto10=np.array([])\n",
        "for i in range(10):\n",
        "    otherticket=newticket()\n",
        "    loto10=(np.append(loto10,otherticket))\n",
        "loto10=loto10.reshape(10,4)\n",
        "print(loto10.astype('int'))\n",
        "\n",
        "\n",
        "#ejercicioC\n",
        "coincide=np.array([])\n",
        "i=0\n",
        "while i<10:\n",
        "    j=0\n",
        "    cont=0\n",
        "    while j<4:\n",
        "        if winticket[j]==loto10[i,j]:\n",
        "            cont+=1\n",
        "        j+=1\n",
        "    coincide=np.append(coincide,cont)\n",
        "    i+=1\n",
        "\n",
        "print(coincide.astype('int'))\n",
        "\n",
        "\n"
      ],
      "metadata": {
        "id": "xQOaHT30EvH0"
      },
      "execution_count": null,
      "outputs": []
    },
    {
      "cell_type": "markdown",
      "source": [
        "## Ejercicio 7"
      ],
      "metadata": {
        "id": "zNoES9dLE1Nm"
      }
    },
    {
      "cell_type": "code",
      "source": [
        "import numpy as np\n",
        "senial='010010000110111101101100011000010100110101110101011011100110010001101111'\n",
        "i=0\n",
        "byte=''\n",
        "list=[]\n",
        "while i!=len(senial):\n",
        "    byte += senial[i]\n",
        "    if (i+1)%8==0:\n",
        "        list.append(byte)\n",
        "        byte=''\n",
        "    i+=1\n",
        "\n",
        "arr=np.array(list)\n",
        "for j in arr:\n",
        "    x = chr(int(j,2))\n",
        "    print(x)"
      ],
      "metadata": {
        "id": "GzcEi0DhE3iv"
      },
      "execution_count": null,
      "outputs": []
    }
  ],
  "metadata": {
    "colab": {
      "collapsed_sections": [],
      "name": "Te damos la bienvenida a Colaboratory",
      "provenance": []
    },
    "kernelspec": {
      "display_name": "Python 3",
      "name": "python3"
    }
  },
  "nbformat": 4,
  "nbformat_minor": 0
}