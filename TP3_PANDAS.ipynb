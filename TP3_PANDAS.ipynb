{
  "cells": [
    {
      "cell_type": "markdown",
      "source": [
        "#Trabajo Practico Numero 3"
      ],
      "metadata": {
        "id": "-EbSRgT0r0Q5"
      }
    },
    {
      "cell_type": "markdown",
      "source": [
        "##Puntos 1,2 y 3"
      ],
      "metadata": {
        "id": "Ecx0cfear3uL"
      }
    },
    {
      "cell_type": "code",
      "source": [
        "import pandas as pd\n",
        "dicc={'names':['juan','luis','marta','pedro','cacho','luisa','pocha','tano'],\n",
        "      'leg'  :[1234,7878,8585 ,2552 , 1111, 2662, 7884,7777],\n",
        "      'not1' :[8   ,   4,    8,    7,   10,    5,    5,   7],\n",
        "      'not2' :[7   ,   7,    7,    7,    7,    7,    7,   7]}\n",
        "df=pd.DataFrame({'Nombres': dicc['names'], 'Legajo': dicc['leg'],\"Nota 1\":dicc['not1'],'Nota 2':dicc['not2']})\n",
        "\n",
        "\n",
        "df2=df.copy()\n",
        "df2['Promedio']=(df2['Nota 1'] + df2 ['Nota 2'])/2\n",
        "promsort=df2.sort_values('Promedio',ascending=False)\n",
        "promgood=df2.loc[(df2['Promedio']>6)]\n",
        "prombad=df2.loc[(df2['Promedio']<=6)]\n",
        "\n",
        "\n",
        "df3=df.copy()\n",
        "nuevos={'names':['juansito','luisiv','francis'],\n",
        "      'leg'  :[9999,1111,8888],\n",
        "      'not1' :[1   ,   4,    1],\n",
        "      'not2' :[7   ,   7,    7]}\n",
        "\n",
        "nuevos=pd.DataFrame({'Nombres': nuevos['names'], 'Legajo': nuevos['leg'],\"Nota 1\":nuevos['not1'],'Nota 2':nuevos['not2']})\n",
        "df3 = df3.drop(1).drop(6).drop(7)\n",
        "df3 = pd.concat([df3,nuevos])\n",
        "df3= df3.reset_index(drop = True)\n",
        "\n",
        "\n",
        "print('Original')\n",
        "print(df)\n",
        "print('\\n')\n",
        "print('Promedios')\n",
        "print(df2)\n",
        "print('\\n')\n",
        "print('Promedios Buenos')\n",
        "print(promgood)\n",
        "print('\\n')\n",
        "print('Promedios malos')\n",
        "print(prombad)\n",
        "print('\\n')\n",
        "print('Agregar 3 y borrar 3')\n",
        "print(df3)"
      ],
      "metadata": {
        "id": "aWQlV64ssHSa"
      },
      "execution_count": null,
      "outputs": []
    },
    {
      "cell_type": "markdown",
      "source": [
        "##Punto 4"
      ],
      "metadata": {
        "id": "sALnL4wJsIhh"
      }
    },
    {
      "cell_type": "code",
      "source": [
        "import pandas as pd\n",
        "\n",
        "df=pd.read_csv('C:/Users/rjaus/Downloads/cuatri2/PA/nacimientos_muertes_incrementos.csv')\n",
        "\n",
        "sinNI=df.copy()\n",
        "sinNI = sinNI.drop(columns=['Natural increase'])\n",
        "\n",
        "mayorN=df.sort_values('Live births',ascending=False)\n",
        "mayorN=pd.DataFrame({'Year': mayorN['December year'],'Cantidad nacimientos': mayorN['Live births']}).head(10).reset_index(drop = True)\n",
        "print(mayorN)\n",
        "print('\\n')\n",
        "\n",
        "menorM =df.sort_values('Deaths')\n",
        "menorM=pd.DataFrame({'Year': menorM['December year'],'Cantidad muertes': menorM['Deaths']}).head(10).reset_index(drop = True)\n",
        "print(menorM)\n",
        "print('\\n')\n",
        "\n",
        "menos50kN =df.loc[(df['Live births'] < 50000)]\n",
        "menos50kN=pd.DataFrame({'Year': menos50kN['December year'],'Cantidad nacimientos': menos50kN['Live births']}).head(10).reset_index(drop = True)\n",
        "print(menos50kN)\n",
        "print('\\n')\n",
        "\n",
        "meanbirth=df['Live births'].mean()\n",
        "meandeath=df['Deaths'].mean()\n",
        "\n",
        "\n",
        "print(f'la media de nacimientos del dataset es: {meanbirth} y la de muertes es {meandeath}')"
      ],
      "metadata": {
        "id": "CchEsMhOsKnn"
      },
      "execution_count": null,
      "outputs": []
    },
    {
      "cell_type": "markdown",
      "source": [
        "##Punto 5"
      ],
      "metadata": {
        "id": "Pxqjk3JGsORN"
      }
    },
    {
      "cell_type": "code",
      "source": [
        "import pandas as pd\n",
        "\n",
        "df=pd.read_csv('C:/Users/rjaus/Downloads/cuatri2/PA/precios-en-surtidor-resolucin-3142016.csv')\n",
        "mayorP=df.sort_values('precio',ascending=False)\n",
        "mayorP=pd.DataFrame({'localidad': mayorP['localidad'],'precio': mayorP['precio']}).head(10).reset_index(drop = True)\n",
        "menorP=df.sort_values('precio')\n",
        "menorP=pd.DataFrame({'localidad': menorP['localidad'],'precio': menorP['precio']}).head(10).reset_index(drop = True)\n",
        "\n",
        "\n",
        "print('los mayores precios se encuentran en: ')\n",
        "print(mayorP.iloc[0])\n",
        "print('\\n')\n",
        "print('los menores precios se encuentran en: ')\n",
        "print(menorP.iloc[0])\n",
        "print('\\n')\n",
        "promedios=df.groupby(['producto']).mean()\n",
        "promedios=promedios['precio']\n",
        "\n",
        "print('los precios promedios de los combustibles son')\n",
        "print(promedios)\n",
        "print('\\n')\n",
        "\n",
        "gnc=df.loc[(df['producto'] == \"GNC\")].sort_values('precio').head(1).reset_index(drop = True)\n",
        "menorgnc=pd.DataFrame({'localidad': gnc['localidad'],'precio': gnc['precio']})\n",
        "\n",
        "print('el GNC mas baratos esta en: ')\n",
        "print(menorgnc)\n",
        "print('\\n')\n",
        "\n",
        "super=df.loc[(df['producto'] == \"Nafta (súper) entre 92 y 95 Ron\")].reset_index(drop = True)\n",
        "promsuper=super.groupby(['provincia']).mean()\n",
        "promsuper=promsuper['precio']\n",
        "\n",
        "print('el promedio de la Nafta super por provincia es: ')\n",
        "print(promsuper)"
      ],
      "metadata": {
        "id": "7857qPXWsQwD"
      },
      "execution_count": null,
      "outputs": []
    },
    {
      "cell_type": "markdown",
      "source": [
        "##Punto 6"
      ],
      "metadata": {
        "id": "MRllOYdEsTtb"
      }
    },
    {
      "cell_type": "code",
      "source": [
        "import pandas as pd\n",
        "\n",
        "df=pd.read_csv('C:/Users/rjaus/Downloads/cuatri2/PA/share_mujer_todos.csv')\n",
        "df2=df.copy()\n",
        "df2['year']=pd.DatetimeIndex(df2['fecha']).year\n",
        "df2['month']=pd.DatetimeIndex(df2['fecha']).month\n",
        "df2 = df2.drop(columns=['fecha'])\n",
        "\n",
        "aniOcup=df2.groupby(['year']).mean().sort_values('share_mujer',ascending=False)\n",
        "aniOcup=aniOcup['share_mujer'].head(1)\n",
        "\n",
        "print('el año con mas mujeres ocupadas fue: ')\n",
        "print(aniOcup)\n",
        "print('\\n')\n",
        "\n",
        "\n",
        "provOcup=df2.groupby('zona_prov').mean().sort_values('share_mujer',ascending=False)\n",
        "provOcup=provOcup['share_mujer'].head(2)\n",
        "print('las dos provincias con mayor porcentaje de mujeres ocupadas durante todos los años fueron: ')\n",
        "print(provOcup)\n",
        "print('\\n')\n",
        "\n",
        "mesOcup=df2.groupby(['month']).mean().sort_values('share_mujer',ascending=False)\n",
        "mesOcup=mesOcup['share_mujer'].head(1)\n",
        "print('el mes con mas mujeres ocupadas fue: ')\n",
        "print(mesOcup)\n",
        "print('no hubo ningun mes que en promedio supere el %40 porciento de mujeres empleadas')"
      ],
      "metadata": {
        "id": "EG9FTmNisVk5"
      },
      "execution_count": null,
      "outputs": []
    }
  ],
  "metadata": {
    "colab": {
      "collapsed_sections": [],
      "name": "Te damos la bienvenida a Colaboratory",
      "toc_visible": true,
      "provenance": []
    },
    "kernelspec": {
      "display_name": "Python 3",
      "name": "python3"
    }
  },
  "nbformat": 4,
  "nbformat_minor": 0
}